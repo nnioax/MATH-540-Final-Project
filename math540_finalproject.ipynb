{
  "nbformat": 4,
  "nbformat_minor": 0,
  "metadata": {
    "colab": {
      "provenance": [],
      "authorship_tag": "ABX9TyPHxdSdHWiGeOybxAM7P/8y",
      "include_colab_link": true
    },
    "kernelspec": {
      "name": "python3",
      "display_name": "Python 3"
    },
    "language_info": {
      "name": "python"
    }
  },
  "cells": [
    {
      "cell_type": "markdown",
      "metadata": {
        "id": "view-in-github",
        "colab_type": "text"
      },
      "source": [
        "<a href=\"https://colab.research.google.com/github/nnioax/MATH-540-Final-Project/blob/main/math540_finalproject.ipynb\" target=\"_parent\"><img src=\"https://colab.research.google.com/assets/colab-badge.svg\" alt=\"Open In Colab\"/></a>"
      ]
    },
    {
      "cell_type": "markdown",
      "source": [
        "# Empirical Verification of the Error Bound of Decision Tree Classifier\n",
        "\n",
        "Student name: Zhamila Kulchukova"
      ],
      "metadata": {
        "id": "n4HGqkx2pItQ"
      }
    },
    {
      "cell_type": "markdown",
      "source": [
        "**Algorithm**\n",
        "\n",
        "Desicion Tree Classifier is a type of learning algorithm that predicts the label of a sample by performing simple boolean operations. \n",
        "\n",
        "This notebook contains the source code for the MATH 450 final project report. The theoretical error bound that is being considered is:\n",
        "$$L_{\\mathcal{D}}(h) \\leq L_S(h) + \\sqrt{\\frac{(n+1)log_2(d+3)+log(2/\\delta)}{2m}},$$\n",
        "where $L_{\\mathcal{D}}(h)$ is the true error, $L_S(h)$ - empirical loss, $n$ - number of leaf nodes in the constructed tree, $d$ - depth of the tree, $m$ - number of samples and $\\delta$ - confidence parameter."
      ],
      "metadata": {
        "id": "HRXnQYG7pm-l"
      }
    },
    {
      "cell_type": "code",
      "execution_count": 1,
      "metadata": {
        "id": "m-5pqeu5fMgH"
      },
      "outputs": [],
      "source": [
        "import matplotlib.pyplot as plt\n",
        "import numpy as np\n",
        "from sklearn import datasets, tree, model_selection"
      ]
    },
    {
      "cell_type": "code",
      "source": [
        "# defining the error bound function\n",
        "\n",
        "def error_bound(nodes, depth, m, cp) :\n",
        "  return np.sqrt((nodes + 1) * np.log2(depth + 3) + np.log(2/cp))/np.sqrt(2 * m)"
      ],
      "metadata": {
        "id": "pGU-40h6u8Gy"
      },
      "execution_count": 2,
      "outputs": []
    },
    {
      "cell_type": "code",
      "source": [
        "# verifying that the experimental error decays as the sample size increases\n",
        "\n",
        "m = 3000 # number of samples\n",
        "k = 4  # number of features\n",
        "\n",
        "# generating the training data as described in the theory\n",
        "# the features of x are binary (1 or 0)\n",
        "# y is binary (1 or 0)\n",
        "mx = [np.random.randint(2, size = k) for i in range(m)]\n",
        "my = np.random.randint(2, size = m)\n",
        "\n",
        "# splitting the data into training set and testing set\n",
        "mx_train, mx_test, my_train, my_test = model_selection.train_test_split(mx, my, test_size = 0.3, random_state = 42)\n",
        "err_sample = []\n",
        "bound_sample = []\n",
        "nm = []\n",
        "\n",
        "# fixing the depth d\n",
        "d = 3\n",
        "\n",
        "dtc_m = tree.DecisionTreeClassifier(max_leaf_nodes = 2**d, max_depth = d)\n",
        "\n",
        "j = 0\n",
        "for j in range(m):\n",
        "  x_temp_train = mx_train[0:(j+1)]\n",
        "  y_temp_train = my_train[0:(j+1)]\n",
        "  x_temp_test = mx_test[0:(j+1)]\n",
        "  y_temp_test = my_test[0:(j+1)]\n",
        "\n",
        "  dtc_m.fit(x_temp_train, y_temp_train)\n",
        "\n",
        "  nm.append(j+1)\n",
        "\n",
        "  # experimental error\n",
        "  err_sample.append(dtc_m.score(x_temp_train, y_temp_train) - dtc_m.score(x_temp_test, y_temp_test))\n",
        "  # error bound\n",
        "  bound_sample.append(error_bound(2**d, d, nm[j], 0.1))"
      ],
      "metadata": {
        "id": "gue8A-hT0D9H"
      },
      "execution_count": 7,
      "outputs": []
    },
    {
      "cell_type": "code",
      "source": [
        "# plotting both the experimental error and the error bound\n",
        "plt.scatter(nm, err_sample, c = 'royalblue', label = \"exp error\")  \n",
        "plt.plot(nm[10:], bound_sample[10:], c = 'b', linestyle = 'dashed', label = \"error bound\")\n",
        "plt.xlabel(\"sample size\")\n",
        "plt.ylabel(\"$\\Delta L$\")\n",
        "plt.legend()\n",
        "plt.grid()"
      ],
      "metadata": {
        "colab": {
          "base_uri": "https://localhost:8080/",
          "height": 279
        },
        "id": "3mTDZmegPu0J",
        "outputId": "dc14c5cf-e703-433c-9cee-cd8842316cb3"
      },
      "execution_count": 8,
      "outputs": [
        {
          "output_type": "display_data",
          "data": {
            "text/plain": [
              "<Figure size 432x288 with 1 Axes>"
            ],
            "image/png": "[encoded data removed]"
          },
          "metadata": {
            "needs_background": "light"
          }
        }
      ]
    },
    {
      "cell_type": "code",
      "source": [
        "# verifying that the experimental error increases as the depth of the tree increases\n",
        "\n",
        "m = 10000 # number of samples\n",
        "k = 500 # number of features\n",
        "\n",
        "# generating the training data as described in the theory\n",
        "# the features of x are binary (1 or 0)\n",
        "# y is binary (1 or 0)\n",
        "dx = [np.random.randint(2, size = k) for i in range(m)]\n",
        "dy = np.random.randint(2, size = m)\n",
        "\n",
        "# splitting the data into training set and testing set\n",
        "dx_train, dx_test, dy_train, dy_test = model_selection.train_test_split(dx, dy, test_size = 0.3, random_state = 42)\n",
        "err_depth = []\n",
        "bound_depth = []\n",
        "nd = []\n",
        "\n",
        "# the maximum depth to which the algorithm has converged using the said data\n",
        "depthmax = 10\n",
        "\n",
        "for j in range(depthmax):\n",
        "\n",
        "  dtc_d = tree.DecisionTreeClassifier(max_leaf_nodes = 2**(j+1), max_depth = j+1)\n",
        "  dtc_d.fit(dx_train, dy_train)\n",
        "\n",
        "  nd.append(dtc_d.get_depth())\n",
        "\n",
        "  # experimental error\n",
        "  err_depth.append(dtc_d.score(dx_train, dy_train) - dtc_d.score(dx_test, dy_test))\n",
        "  # error bound\n",
        "  bound_depth.append(error_bound(2**nd[j], nd[j], len(dy_train), 0.1))"
      ],
      "metadata": {
        "id": "cElXIqACoDAp"
      },
      "execution_count": 9,
      "outputs": []
    },
    {
      "cell_type": "code",
      "source": [
        "# plotting both the experimental error and the error bound\n",
        "plt.scatter(nd, err_depth, c = 'turquoise', label = \"exp error\")  \n",
        "plt.plot(nd, bound_depth, c = 'teal', linestyle = 'dashed', label = \"error bound\")\n",
        "plt.xlabel(\"tree depth\")\n",
        "plt.ylabel(\"$\\Delta L$\")\n",
        "plt.legend()\n",
        "plt.grid()"
      ],
      "metadata": {
        "colab": {
          "base_uri": "https://localhost:8080/",
          "height": 279
        },
        "id": "8j4pl7JKL12V",
        "outputId": "161d5af3-0d18-486e-f191-fc6b07597254"
      },
      "execution_count": 10,
      "outputs": [
        {
          "output_type": "display_data",
          "data": {
            "text/plain": [
              "<Figure size 432x288 with 1 Axes>"
            ],
            "image/png": "[encoded data removed]"
          },
          "metadata": {
            "needs_background": "light"
          }
        }
      ]
    },
    {
      "cell_type": "code",
      "source": [
        "# testing on the real world data\n",
        "\n",
        "# DISCLAIMER: the error bound is for the data with binary features,\n",
        "# but the breast cancer dataset only has binary targets,\n",
        "# the features are some real numbers\n",
        "# deviation from the theory is expected\n",
        "\n",
        "bc = datasets.load_breast_cancer()\n",
        "bc.data_train, bc.data_test, bc.target_train, bc.target_test = model_selection.train_test_split(bc.data, bc.target, test_size = 0.3, random_state = 42)"
      ],
      "metadata": {
        "id": "rVyfJL1WaNTe"
      },
      "execution_count": null,
      "outputs": []
    },
    {
      "cell_type": "code",
      "source": [
        "# checking if the experimental error decays as in theory for changing m\n",
        "\n",
        "err_bc_sample = []\n",
        "bc_bound_sample = []\n",
        "bc_nm = []\n",
        "\n",
        "depthmax = 3\n",
        "nodesmax = 4\n",
        "\n",
        "dtc_bc = tree.DecisionTreeClassifier(max_leaf_nodes = nodesmax, max_depth = depthmax)\n",
        "\n",
        "j = 0\n",
        "for j in range(len(bc.target)):\n",
        "  bc.data_traintemp = bc.data_train[0:(j+1)]\n",
        "  bc.target_traintemp = bc.target_train[0:(j+1)]\n",
        "  bc.data_testtemp = bc.data_test[0:(j+1)]\n",
        "  bc.target_testtemp = bc.target_test[0:(j+1)]\n",
        "\n",
        "  dtc_bc.fit(bc.data_traintemp, bc.target_traintemp)\n",
        "\n",
        "  bc_nm.append(j+1)\n",
        "\n",
        "  # experimental error\n",
        "  err_bc_sample.append(dtc_bc.score(bc.data_traintemp, bc.target_traintemp) - dtc_bc.score(bc.data_testtemp, bc.target_testtemp))\n",
        "  # error bound\n",
        "  bc_bound_sample.append(error_bound(nodesmax, depthmax, bc_nm[j], 0.1))"
      ],
      "metadata": {
        "id": "g5-8oz7KfGN6"
      },
      "execution_count": null,
      "outputs": []
    },
    {
      "cell_type": "code",
      "source": [
        "# plotting both experimental error and the error bound\n",
        "# as expected, the error behaves differently\n",
        "plt.scatter(bc_nm, err_bc_sample, c = 'royalblue', label = \"exp error\")  \n",
        "plt.plot(bc_nm[10:], bc_bound_sample[10:], c = 'b', linestyle = 'dashed', label = \"error bound\")\n",
        "plt.xlabel(\"sample size\")\n",
        "plt.ylabel(\"$\\Delta L}$\")\n",
        "plt.legend()\n",
        "plt.grid()"
      ],
      "metadata": {
        "colab": {
          "base_uri": "https://localhost:8080/",
          "height": 279
        },
        "id": "YZVsxVyGiZqZ",
        "outputId": "fb0f527d-239f-4d27-f1bf-fe362c68f73d"
      },
      "execution_count": null,
      "outputs": [
        {
          "output_type": "display_data",
          "data": {
            "text/plain": [
              "<Figure size 432x288 with 1 Axes>"
            ],
            "image/png": "[encoded data removed]"
          },
          "metadata": {
            "needs_background": "light"
          }
        }
      ]
    },
    {
      "cell_type": "code",
      "source": [
        "# checking if the experimental error decays as in theory for changin d\n",
        "\n",
        "err_bc_depth = []\n",
        "bound_bc_depth = []\n",
        "bc_nd = []\n",
        "bc_nn = []\n",
        "\n",
        "depthmax = 7\n",
        "\n",
        "for j in range(depthmax):\n",
        "\n",
        "  dtc_bc = tree.DecisionTreeClassifier(max_leaf_nodes = 2**(j+1), max_depth = j+1)\n",
        "\n",
        "  dtc_bc.fit(bc.data_train, bc.target_train)\n",
        "\n",
        "  bc_nd.append(dtc_bc.get_depth())\n",
        "  bc_nn.append(dtc_bc.get_n_leaves())\n",
        "\n",
        "  # experimental error\n",
        "  err_bc_depth.append(dtc_bc.score(bc.data_train, bc.target_train) - dtc_bc.score(bc.data_test, bc.target_test))\n",
        "  # error bound\n",
        "  bound_bc_depth.append(error_bound(bc_nn[j], bc_nd[j], len(bc.target_train), 0.1))"
      ],
      "metadata": {
        "id": "64H8m2fPjp2y"
      },
      "execution_count": null,
      "outputs": []
    },
    {
      "cell_type": "code",
      "source": [
        "# plotting both experimental error and the error bound\n",
        "# as expected, the error behaves differently\n",
        "plt.scatter(bc_nd, err_bc_depth, c = 'turquoise', label = \"exp error\")  \n",
        "plt.plot(bc_nd, bound_bc_depth, c = 'teal', linestyle = 'dashed', label = \"error bound\")\n",
        "plt.xlabel(\"tree depth\")\n",
        "plt.ylabel(\"$\\Delta L$\")\n",
        "plt.legend()\n",
        "plt.grid()"
      ],
      "metadata": {
        "colab": {
          "base_uri": "https://localhost:8080/",
          "height": 279
        },
        "id": "uaMvdUJGmBL5",
        "outputId": "6175da04-64dd-42fc-b032-4ed98a094adb"
      },
      "execution_count": null,
      "outputs": [
        {
          "output_type": "display_data",
          "data": {
            "text/plain": [
              "<Figure size 432x288 with 1 Axes>"
            ],
            "image/png": "[encoded data removed]"
          },
          "metadata": {
            "needs_background": "light"
          }
        }
      ]
    }
  ]
}